{
  "nbformat": 4,
  "nbformat_minor": 0,
  "metadata": {
    "colab": {
      "provenance": []
    },
    "kernelspec": {
      "name": "python3",
      "display_name": "Python 3"
    },
    "language_info": {
      "name": "python"
    }
  },
  "cells": [
    {
      "cell_type": "code",
      "source": [
        "!pip install apyori"
      ],
      "metadata": {
        "colab": {
          "base_uri": "https://localhost:8080/"
        },
        "id": "ZSDPCE5oVeTW",
        "outputId": "ecbeae4b-a6b2-44dc-ead1-f7baf9cef9ff"
      },
      "execution_count": 1,
      "outputs": [
        {
          "output_type": "stream",
          "name": "stdout",
          "text": [
            "Requirement already satisfied: apyori in /usr/local/lib/python3.10/dist-packages (1.1.2)\n"
          ]
        }
      ]
    },
    {
      "cell_type": "code",
      "source": [
        "# Install the mlxtend library if you haven't already\n",
        "# !pip install mlxtend\n",
        "\n",
        "# Importing the libraries\n",
        "import pandas as pd\n",
        "from mlxtend.frequent_patterns import apriori\n",
        "from mlxtend.frequent_patterns import association_rules\n",
        "import numpy as np\n",
        "import matplotlib.pyplot as plt\n",
        "from pathlib import Path\n",
        "import os\n",
        "\n",
        "# Load the data from the CSV file\n",
        "cwd = Path.cwd() / \"datasets\"\n",
        "df = pd.read_csv(os.path.join(cwd, 'Market_Basket_Optimisation.csv'), header = None)\n",
        "\n",
        "# Convert the data to a one-hot encoded format\n",
        "basket = df.applymap(lambda x: 1 if pd.notna(x) else 0)\n",
        "\n",
        "# Apply Apriori algorithm to find frequent itemsets\n",
        "frequent_itemsets = apriori(basket, min_support=0.05, use_colnames=True)\n",
        "\n",
        "# Generate association rules\n",
        "rules = association_rules(frequent_itemsets, metric=\"confidence\", min_threshold=0.3)"
      ],
      "metadata": {
        "colab": {
          "base_uri": "https://localhost:8080/"
        },
        "id": "Mp8EEWJvW3FL",
        "outputId": "169cabf8-ea5a-4bf0-ae07-c68c37da9aa7"
      },
      "execution_count": 2,
      "outputs": [
        {
          "output_type": "stream",
          "name": "stderr",
          "text": [
            "/usr/local/lib/python3.10/dist-packages/mlxtend/frequent_patterns/fpcommon.py:110: DeprecationWarning: DataFrames with non-bool types result in worse computationalperformance and their support might be discontinued in the future.Please use a DataFrame with bool type\n",
            "  warnings.warn(\n"
          ]
        }
      ]
    },
    {
      "cell_type": "code",
      "source": [
        "# Display the results\n",
        "print(\"Frequent Itemsets:\")\n",
        "print(frequent_itemsets)"
      ],
      "metadata": {
        "colab": {
          "base_uri": "https://localhost:8080/"
        },
        "id": "qlCW0ZuZW3DG",
        "outputId": "a5645c6c-e4e3-4450-c2b6-83fcd4974678"
      },
      "execution_count": 3,
      "outputs": [
        {
          "output_type": "stream",
          "name": "stdout",
          "text": [
            "Frequent Itemsets:\n",
            "       support                        itemsets\n",
            "0     1.000000                             (0)\n",
            "1     0.766165                             (1)\n",
            "2     0.585122                             (2)\n",
            "3     0.445941                             (3)\n",
            "4     0.337155                             (4)\n",
            "...        ...                             ...\n",
            "1018  0.052660     (0, 1, 2, 4, 5, 6, 7, 8, 9)\n",
            "1019  0.052660     (0, 1, 3, 4, 5, 6, 7, 8, 9)\n",
            "1020  0.052660     (0, 2, 3, 4, 5, 6, 7, 8, 9)\n",
            "1021  0.052660     (1, 2, 3, 4, 5, 6, 7, 8, 9)\n",
            "1022  0.052660  (0, 1, 2, 3, 4, 5, 6, 7, 8, 9)\n",
            "\n",
            "[1023 rows x 2 columns]\n"
          ]
        },
        {
          "output_type": "stream",
          "name": "stderr",
          "text": [
            "/usr/local/lib/python3.10/dist-packages/ipykernel/ipkernel.py:283: DeprecationWarning: `should_run_async` will not call `transform_cell` automatically in the future. Please pass the result to `transformed_cell` argument and any exception that happen during thetransform in `preprocessing_exc_tuple` in IPython 7.17 and above.\n",
            "  and should_run_async(code)\n"
          ]
        }
      ]
    },
    {
      "cell_type": "code",
      "source": [
        "print(\"\\nAssociation Rules:\")\n",
        "print(rules)"
      ],
      "metadata": {
        "colab": {
          "base_uri": "https://localhost:8080/"
        },
        "id": "NQKf78B-XoLM",
        "outputId": "555b5190-50eb-4304-a66a-00146df68506"
      },
      "execution_count": 4,
      "outputs": [
        {
          "output_type": "stream",
          "name": "stdout",
          "text": [
            "\n",
            "Association Rules:\n",
            "      antecedents                  consequents  antecedent support  \\\n",
            "0             (0)                          (1)            1.000000   \n",
            "1             (1)                          (0)            0.766165   \n",
            "2             (0)                          (2)            1.000000   \n",
            "3             (2)                          (0)            0.585122   \n",
            "4             (0)                          (3)            1.000000   \n",
            "...           ...                          ...                 ...   \n",
            "46457      (9, 7)     (0, 1, 2, 3, 4, 5, 6, 8)            0.052660   \n",
            "46458      (8, 9)     (0, 1, 2, 3, 4, 5, 6, 7)            0.052660   \n",
            "46459         (7)  (0, 1, 2, 3, 4, 5, 6, 8, 9)            0.130783   \n",
            "46460         (8)  (0, 1, 2, 3, 4, 5, 6, 7, 9)            0.087188   \n",
            "46461         (9)  (0, 1, 2, 3, 4, 5, 6, 7, 8)            0.052660   \n",
            "\n",
            "       consequent support   support  confidence       lift  leverage  \\\n",
            "0                0.766165  0.766165    0.766165   1.000000  0.000000   \n",
            "1                1.000000  0.766165    1.000000   1.000000  0.000000   \n",
            "2                0.585122  0.585122    0.585122   1.000000  0.000000   \n",
            "3                1.000000  0.585122    1.000000   1.000000  0.000000   \n",
            "4                0.445941  0.445941    0.445941   1.000000  0.000000   \n",
            "...                   ...       ...         ...        ...       ...   \n",
            "46457            0.087188  0.052660    1.000000  11.469419  0.048068   \n",
            "46458            0.130783  0.052660    1.000000   7.646279  0.045773   \n",
            "46459            0.052660  0.052660    0.402650   7.646279  0.045773   \n",
            "46460            0.052660  0.052660    0.603976  11.469419  0.048068   \n",
            "46461            0.087188  0.052660    1.000000  11.469419  0.048068   \n",
            "\n",
            "       conviction  zhangs_metric  \n",
            "0        1.000000       0.000000  \n",
            "1             inf       0.000000  \n",
            "2        1.000000       0.000000  \n",
            "3             inf       0.000000  \n",
            "4        1.000000       0.000000  \n",
            "...           ...            ...  \n",
            "46457         inf       0.963552  \n",
            "46458         inf       0.917534  \n",
            "46459    1.585906       1.000000  \n",
            "46460    2.392126       1.000000  \n",
            "46461         inf       0.963552  \n",
            "\n",
            "[46462 rows x 10 columns]\n"
          ]
        },
        {
          "output_type": "stream",
          "name": "stderr",
          "text": [
            "/usr/local/lib/python3.10/dist-packages/ipykernel/ipkernel.py:283: DeprecationWarning: `should_run_async` will not call `transform_cell` automatically in the future. Please pass the result to `transformed_cell` argument and any exception that happen during thetransform in `preprocessing_exc_tuple` in IPython 7.17 and above.\n",
            "  and should_run_async(code)\n"
          ]
        }
      ]
    },
    {
      "cell_type": "code",
      "source": [],
      "metadata": {
        "id": "QEFqJimaaW7n"
      },
      "execution_count": null,
      "outputs": []
    }
  ]
}