{
  "nbformat": 4,
  "nbformat_minor": 0,
  "metadata": {
    "colab": {
      "provenance": []
    },
    "kernelspec": {
      "name": "python3",
      "display_name": "Python 3"
    },
    "language_info": {
      "name": "python"
    },
    "accelerator": "GPU",
    "gpuClass": "standard"
  },
  "cells": [
    {
      "cell_type": "markdown",
      "source": [
        "### LSTM implementation"
      ],
      "metadata": {
        "id": "eXRWOUliWsWo"
      }
    },
    {
      "cell_type": "markdown",
      "source": [
        "Enabling GPU"
      ],
      "metadata": {
        "id": "0Z0bOqkpcZ_N"
      }
    },
    {
      "cell_type": "code",
      "source": [
        "# checking if GPU is enabled\n",
        "import tensorflow as tf\n",
        "tf.test.gpu_device_name()"
      ],
      "metadata": {
        "colab": {
          "base_uri": "https://localhost:8080/",
          "height": 36
        },
        "id": "gGpNQ1Y5cbuZ",
        "outputId": "9375d129-eb0d-44f0-b6ca-aed5848f5edc"
      },
      "execution_count": 1,
      "outputs": [
        {
          "output_type": "execute_result",
          "data": {
            "text/plain": [
              "'/device:GPU:0'"
            ],
            "application/vnd.google.colaboratory.intrinsic+json": {
              "type": "string"
            }
          },
          "metadata": {},
          "execution_count": 1
        }
      ]
    },
    {
      "cell_type": "code",
      "source": [
        "# different devices used during the execution of the notebook\n",
        "from tensorflow.python.client import device_lib\n",
        "device_lib.list_local_devices()"
      ],
      "metadata": {
        "colab": {
          "base_uri": "https://localhost:8080/"
        },
        "id": "nPrzlHl1cgG5",
        "outputId": "f7fdf36e-9734-4cfe-e867-58a98b097edf"
      },
      "execution_count": 2,
      "outputs": [
        {
          "output_type": "execute_result",
          "data": {
            "text/plain": [
              "[name: \"/device:CPU:0\"\n",
              " device_type: \"CPU\"\n",
              " memory_limit: 268435456\n",
              " locality {\n",
              " }\n",
              " incarnation: 17980658262461566934\n",
              " xla_global_id: -1,\n",
              " name: \"/device:GPU:0\"\n",
              " device_type: \"GPU\"\n",
              " memory_limit: 14626652160\n",
              " locality {\n",
              "   bus_id: 1\n",
              "   links {\n",
              "   }\n",
              " }\n",
              " incarnation: 6519975509401400838\n",
              " physical_device_desc: \"device: 0, name: Tesla T4, pci bus id: 0000:00:04.0, compute capability: 7.5\"\n",
              " xla_global_id: 416903419]"
            ]
          },
          "metadata": {},
          "execution_count": 2
        }
      ]
    },
    {
      "cell_type": "code",
      "source": [
        "# checking RAM\n",
        "!cat /proc/meminfo"
      ],
      "metadata": {
        "colab": {
          "base_uri": "https://localhost:8080/"
        },
        "id": "_8_1do3hci64",
        "outputId": "340bf8d8-ab0d-4c66-e48f-83ddcd9aa3c8"
      },
      "execution_count": 3,
      "outputs": [
        {
          "output_type": "stream",
          "name": "stdout",
          "text": [
            "MemTotal:       13290480 kB\n",
            "MemFree:         7713928 kB\n",
            "MemAvailable:   11928740 kB\n",
            "Buffers:          349224 kB\n",
            "Cached:          4061280 kB\n",
            "SwapCached:            0 kB\n",
            "Active:          1072244 kB\n",
            "Inactive:        4102468 kB\n",
            "Active(anon):       1344 kB\n",
            "Inactive(anon):   775104 kB\n",
            "Active(file):    1070900 kB\n",
            "Inactive(file):  3327364 kB\n",
            "Unevictable:          16 kB\n",
            "Mlocked:              16 kB\n",
            "SwapTotal:             0 kB\n",
            "SwapFree:              0 kB\n",
            "Dirty:              1632 kB\n",
            "Writeback:             0 kB\n",
            "AnonPages:        761388 kB\n",
            "Mapped:           772420 kB\n",
            "Shmem:             12100 kB\n",
            "KReclaimable:     114976 kB\n",
            "Slab:             162936 kB\n",
            "SReclaimable:     114976 kB\n",
            "SUnreclaim:        47960 kB\n",
            "KernelStack:        5892 kB\n",
            "PageTables:        10500 kB\n",
            "SecPageTables:         0 kB\n",
            "NFS_Unstable:          0 kB\n",
            "Bounce:                0 kB\n",
            "WritebackTmp:          0 kB\n",
            "CommitLimit:     6645240 kB\n",
            "Committed_AS:    3212060 kB\n",
            "VmallocTotal:   34359738367 kB\n",
            "VmallocUsed:       80244 kB\n",
            "VmallocChunk:          0 kB\n",
            "Percpu:             1088 kB\n",
            "HardwareCorrupted:     0 kB\n",
            "AnonHugePages:     14336 kB\n",
            "ShmemHugePages:        0 kB\n",
            "ShmemPmdMapped:        0 kB\n",
            "FileHugePages:         0 kB\n",
            "FilePmdMapped:         0 kB\n",
            "CmaTotal:              0 kB\n",
            "CmaFree:               0 kB\n",
            "Unaccepted:            0 kB\n",
            "HugePages_Total:       0\n",
            "HugePages_Free:        0\n",
            "HugePages_Rsvd:        0\n",
            "HugePages_Surp:        0\n",
            "Hugepagesize:       2048 kB\n",
            "Hugetlb:               0 kB\n",
            "DirectMap4k:      275256 kB\n",
            "DirectMap2M:     6012928 kB\n",
            "DirectMap1G:     9437184 kB\n"
          ]
        }
      ]
    },
    {
      "cell_type": "code",
      "source": [
        "!nvidia-smi"
      ],
      "metadata": {
        "colab": {
          "base_uri": "https://localhost:8080/"
        },
        "id": "CK4SMDr8clfY",
        "outputId": "e2dd51b3-cd02-4414-b8ff-3413015701d7"
      },
      "execution_count": 4,
      "outputs": [
        {
          "output_type": "stream",
          "name": "stdout",
          "text": [
            "Sun Jan 28 12:04:10 2024       \n",
            "+---------------------------------------------------------------------------------------+\n",
            "| NVIDIA-SMI 535.104.05             Driver Version: 535.104.05   CUDA Version: 12.2     |\n",
            "|-----------------------------------------+----------------------+----------------------+\n",
            "| GPU  Name                 Persistence-M | Bus-Id        Disp.A | Volatile Uncorr. ECC |\n",
            "| Fan  Temp   Perf          Pwr:Usage/Cap |         Memory-Usage | GPU-Util  Compute M. |\n",
            "|                                         |                      |               MIG M. |\n",
            "|=========================================+======================+======================|\n",
            "|   0  Tesla T4                       Off | 00000000:00:04.0 Off |                    0 |\n",
            "| N/A   55C    P0              29W /  70W |    103MiB / 15360MiB |      1%      Default |\n",
            "|                                         |                      |                  N/A |\n",
            "+-----------------------------------------+----------------------+----------------------+\n",
            "                                                                                         \n",
            "+---------------------------------------------------------------------------------------+\n",
            "| Processes:                                                                            |\n",
            "|  GPU   GI   CI        PID   Type   Process name                            GPU Memory |\n",
            "|        ID   ID                                                             Usage      |\n",
            "|=======================================================================================|\n",
            "+---------------------------------------------------------------------------------------+\n"
          ]
        }
      ]
    },
    {
      "cell_type": "markdown",
      "source": [
        "#### Recurrent Neural Network"
      ],
      "metadata": {
        "id": "gN7UIuNMYMgJ"
      }
    },
    {
      "cell_type": "markdown",
      "source": [
        "#### Part 1 - Data Preprocessing"
      ],
      "metadata": {
        "id": "fpd6k4T-X58b"
      }
    },
    {
      "cell_type": "markdown",
      "source": [
        "Importing the libraries"
      ],
      "metadata": {
        "id": "_VPuNlr1ZN9q"
      }
    },
    {
      "cell_type": "code",
      "source": [
        "import numpy as np\n",
        "import matplotlib.pyplot as plt\n",
        "import pandas as pd\n",
        "import os\n",
        "from pathlib import Path"
      ],
      "metadata": {
        "id": "Jko3zLA0YJPv"
      },
      "execution_count": 5,
      "outputs": []
    },
    {
      "cell_type": "markdown",
      "source": [
        "Importing the training set"
      ],
      "metadata": {
        "id": "hv5pbN8GZQdr"
      }
    },
    {
      "cell_type": "code",
      "source": [
        "# Get the current working directory\n",
        "current_directory = Path.cwd()\n",
        "\n",
        "# Define the path to the CSV file\n",
        "csv_file_path = current_directory / \"datasets\" / \"Google Stock Price\""
      ],
      "metadata": {
        "id": "xVO0UjFp8YyW"
      },
      "execution_count": 6,
      "outputs": []
    },
    {
      "cell_type": "code",
      "source": [
        "dataset_train = pd.read_csv(os.path.join(csv_file_path, 'Google_Stock_Price_Train.csv'))\n",
        "training_set = dataset_train.iloc[:, 1:2].values"
      ],
      "metadata": {
        "id": "JMlXrcPWYJEX"
      },
      "execution_count": 7,
      "outputs": []
    },
    {
      "cell_type": "markdown",
      "source": [
        "Feature Scaling"
      ],
      "metadata": {
        "id": "01b_3B31d42W"
      }
    },
    {
      "cell_type": "code",
      "source": [
        "from sklearn.preprocessing import MinMaxScaler\n",
        "sc = MinMaxScaler(feature_range=(0,1))\n",
        "training_set_scaled = sc.fit_transform(training_set)\n",
        "print(training_set_scaled.shape)\n",
        "training_set_scaled"
      ],
      "metadata": {
        "colab": {
          "base_uri": "https://localhost:8080/"
        },
        "id": "p9LV752od9KD",
        "outputId": "4ce24d91-3060-402c-b118-e9adc699909f"
      },
      "execution_count": 8,
      "outputs": [
        {
          "output_type": "stream",
          "name": "stdout",
          "text": [
            "(1258, 1)\n"
          ]
        },
        {
          "output_type": "execute_result",
          "data": {
            "text/plain": [
              "array([[0.08581368],\n",
              "       [0.09701243],\n",
              "       [0.09433366],\n",
              "       ...,\n",
              "       [0.95725128],\n",
              "       [0.93796041],\n",
              "       [0.93688146]])"
            ]
          },
          "metadata": {},
          "execution_count": 8
        }
      ]
    },
    {
      "cell_type": "markdown",
      "source": [
        "Creating a data structure with 60 timesteps and 1 output"
      ],
      "metadata": {
        "id": "6ZRrbMD4fAvB"
      }
    },
    {
      "cell_type": "code",
      "source": [
        "X_train = []\n",
        "y_train = []\n",
        "\n",
        "for i in range(60, 1258):\n",
        "  X_train.append(training_set_scaled[i-60:i, 0])\n",
        "  y_train.append(training_set_scaled[i, 0])\n",
        "\n",
        "X_train, y_train = np.array(X_train), np.array(y_train)"
      ],
      "metadata": {
        "id": "hVMqljOjd9GU"
      },
      "execution_count": 9,
      "outputs": []
    },
    {
      "cell_type": "code",
      "source": [
        "print(X_train.shape)\n",
        "X_train"
      ],
      "metadata": {
        "colab": {
          "base_uri": "https://localhost:8080/"
        },
        "id": "8n-TA7C9d8ot",
        "outputId": "2e0f89a7-877e-4766-96f6-07c029a81585"
      },
      "execution_count": 10,
      "outputs": [
        {
          "output_type": "stream",
          "name": "stdout",
          "text": [
            "(1198, 60)\n"
          ]
        },
        {
          "output_type": "execute_result",
          "data": {
            "text/plain": [
              "array([[0.08581368, 0.09701243, 0.09433366, ..., 0.07846566, 0.08034452,\n",
              "        0.08497656],\n",
              "       [0.09701243, 0.09433366, 0.09156187, ..., 0.08034452, 0.08497656,\n",
              "        0.08627874],\n",
              "       [0.09433366, 0.09156187, 0.07984225, ..., 0.08497656, 0.08627874,\n",
              "        0.08471612],\n",
              "       ...,\n",
              "       [0.92106928, 0.92438053, 0.93048218, ..., 0.95475854, 0.95204256,\n",
              "        0.95163331],\n",
              "       [0.92438053, 0.93048218, 0.9299055 , ..., 0.95204256, 0.95163331,\n",
              "        0.95725128],\n",
              "       [0.93048218, 0.9299055 , 0.93113327, ..., 0.95163331, 0.95725128,\n",
              "        0.93796041]])"
            ]
          },
          "metadata": {},
          "execution_count": 10
        }
      ]
    },
    {
      "cell_type": "code",
      "source": [
        "print(y_train.shape)\n",
        "y_train"
      ],
      "metadata": {
        "colab": {
          "base_uri": "https://localhost:8080/"
        },
        "id": "6cbArtXeufsW",
        "outputId": "6a56924b-53f6-48ad-a9bd-fa57408aa24e"
      },
      "execution_count": 11,
      "outputs": [
        {
          "output_type": "stream",
          "name": "stdout",
          "text": [
            "(1198,)\n"
          ]
        },
        {
          "output_type": "execute_result",
          "data": {
            "text/plain": [
              "array([0.08627874, 0.08471612, 0.07454052, ..., 0.95725128, 0.93796041,\n",
              "       0.93688146])"
            ]
          },
          "metadata": {},
          "execution_count": 11
        }
      ]
    },
    {
      "cell_type": "markdown",
      "source": [
        "Reshaping the Data"
      ],
      "metadata": {
        "id": "UigSayhsv322"
      }
    },
    {
      "cell_type": "code",
      "source": [
        "X_train = np.reshape(X_train, (X_train.shape[0], X_train.shape[1], 1))\n",
        "X_train.shape"
      ],
      "metadata": {
        "colab": {
          "base_uri": "https://localhost:8080/"
        },
        "id": "Ql5aM5ngv7e4",
        "outputId": "99f48bed-e1f6-4e35-a245-6782e793dc4d"
      },
      "execution_count": 12,
      "outputs": [
        {
          "output_type": "execute_result",
          "data": {
            "text/plain": [
              "(1198, 60, 1)"
            ]
          },
          "metadata": {},
          "execution_count": 12
        }
      ]
    },
    {
      "cell_type": "markdown",
      "source": [
        "#### Part 2 - Building the RNN"
      ],
      "metadata": {
        "id": "emgNNcWZX55A"
      }
    },
    {
      "cell_type": "markdown",
      "source": [
        "Importing the Keras libraries and packages"
      ],
      "metadata": {
        "id": "wCMXlXHTxUfO"
      }
    },
    {
      "cell_type": "code",
      "source": [
        "from keras.models import Sequential\n",
        "from keras.layers import Dense, LSTM, Dropout"
      ],
      "metadata": {
        "id": "6RuqGk8BYJwv"
      },
      "execution_count": 13,
      "outputs": []
    },
    {
      "cell_type": "markdown",
      "source": [
        "Initialising the RNN"
      ],
      "metadata": {
        "id": "lcS_F6wqxj31"
      }
    },
    {
      "cell_type": "code",
      "source": [
        "regressor = Sequential()"
      ],
      "metadata": {
        "id": "1vW0mWknYJtS"
      },
      "execution_count": 14,
      "outputs": []
    },
    {
      "cell_type": "markdown",
      "source": [
        "Adding the first LSTM layer and some Dropout regularization"
      ],
      "metadata": {
        "id": "hcZXiXcbxteo"
      }
    },
    {
      "cell_type": "code",
      "source": [
        "# LSTM Layer 1\n",
        "regressor.add(LSTM(units=50,\n",
        "                   return_sequences=True,\n",
        "                   input_shape = (X_train.shape[1], 1)))\n",
        "regressor.add(Dropout(0.2))\n",
        "\n",
        "# LSTM Layer 2\n",
        "regressor.add(LSTM(units=50, return_sequences=True,))\n",
        "regressor.add(Dropout(0.2))\n",
        "\n",
        "# LSTM Layer 3\n",
        "regressor.add(LSTM(units=50, return_sequences=True,))\n",
        "regressor.add(Dropout(0.2))\n",
        "\n",
        "# LSTM Layer 4\n",
        "regressor.add(LSTM(units=50,))\n",
        "regressor.add(Dropout(0.2))"
      ],
      "metadata": {
        "id": "Y1rv_Mrmx0nb"
      },
      "execution_count": 15,
      "outputs": []
    },
    {
      "cell_type": "markdown",
      "source": [
        "Adding the output layer"
      ],
      "metadata": {
        "id": "Y37Tz7WpxtEi"
      }
    },
    {
      "cell_type": "code",
      "source": [
        "regressor.add(Dense(units = 1))"
      ],
      "metadata": {
        "id": "jsHGplxizQQ9"
      },
      "execution_count": 16,
      "outputs": []
    },
    {
      "cell_type": "markdown",
      "source": [
        "Compiling the RNN"
      ],
      "metadata": {
        "id": "af-5SqlFxsfn"
      }
    },
    {
      "cell_type": "code",
      "source": [
        "regressor.compile(optimizer='adam', loss='mean_squared_error')"
      ],
      "metadata": {
        "id": "15lfNgMyzQpz"
      },
      "execution_count": 17,
      "outputs": []
    },
    {
      "cell_type": "markdown",
      "source": [
        "#### Part 3 - Making the predictions and visualising the results"
      ],
      "metadata": {
        "id": "mMjmCiSoX52V"
      }
    },
    {
      "cell_type": "markdown",
      "source": [
        "Fitting the RNN to the Training set"
      ],
      "metadata": {
        "id": "sNNMaHOu2QAg"
      }
    },
    {
      "cell_type": "code",
      "source": [
        "regressor.fit(X_train, y_train,\n",
        "              epochs=100,\n",
        "              batch_size=32,\n",
        "              )"
      ],
      "metadata": {
        "colab": {
          "base_uri": "https://localhost:8080/"
        },
        "id": "y9NVrVWrYKRc",
        "outputId": "0a88b174-3626-418e-f8a7-a64b17334580"
      },
      "execution_count": 18,
      "outputs": [
        {
          "output_type": "stream",
          "name": "stdout",
          "text": [
            "Epoch 1/100\n",
            "38/38 [==============================] - 18s 17ms/step - loss: 0.0328\n",
            "Epoch 2/100\n",
            "38/38 [==============================] - 1s 14ms/step - loss: 0.0069\n",
            "Epoch 3/100\n",
            "38/38 [==============================] - 1s 13ms/step - loss: 0.0054\n",
            "Epoch 4/100\n",
            "38/38 [==============================] - 1s 14ms/step - loss: 0.0067\n",
            "Epoch 5/100\n",
            "38/38 [==============================] - 1s 14ms/step - loss: 0.0052\n",
            "Epoch 6/100\n",
            "38/38 [==============================] - 1s 14ms/step - loss: 0.0046\n",
            "Epoch 7/100\n",
            "38/38 [==============================] - 1s 13ms/step - loss: 0.0047\n",
            "Epoch 8/100\n",
            "38/38 [==============================] - 1s 13ms/step - loss: 0.0052\n",
            "Epoch 9/100\n",
            "38/38 [==============================] - 1s 14ms/step - loss: 0.0047\n",
            "Epoch 10/100\n",
            "38/38 [==============================] - 1s 14ms/step - loss: 0.0046\n",
            "Epoch 11/100\n",
            "38/38 [==============================] - 1s 14ms/step - loss: 0.0042\n",
            "Epoch 12/100\n",
            "38/38 [==============================] - 1s 14ms/step - loss: 0.0044\n",
            "Epoch 13/100\n",
            "38/38 [==============================] - 1s 18ms/step - loss: 0.0048\n",
            "Epoch 14/100\n",
            "38/38 [==============================] - 1s 18ms/step - loss: 0.0042\n",
            "Epoch 15/100\n",
            "38/38 [==============================] - 1s 19ms/step - loss: 0.0048\n",
            "Epoch 16/100\n",
            "38/38 [==============================] - 1s 20ms/step - loss: 0.0041\n",
            "Epoch 17/100\n",
            "38/38 [==============================] - 1s 14ms/step - loss: 0.0038\n",
            "Epoch 18/100\n",
            "38/38 [==============================] - 1s 14ms/step - loss: 0.0033\n",
            "Epoch 19/100\n",
            "38/38 [==============================] - 1s 14ms/step - loss: 0.0035\n",
            "Epoch 20/100\n",
            "38/38 [==============================] - 1s 14ms/step - loss: 0.0033\n",
            "Epoch 21/100\n",
            "38/38 [==============================] - 1s 14ms/step - loss: 0.0035\n",
            "Epoch 22/100\n",
            "38/38 [==============================] - 1s 13ms/step - loss: 0.0034\n",
            "Epoch 23/100\n",
            "38/38 [==============================] - 1s 13ms/step - loss: 0.0034\n",
            "Epoch 24/100\n",
            "38/38 [==============================] - 1s 14ms/step - loss: 0.0038\n",
            "Epoch 25/100\n",
            "38/38 [==============================] - 1s 13ms/step - loss: 0.0033\n",
            "Epoch 26/100\n",
            "38/38 [==============================] - 1s 14ms/step - loss: 0.0034\n",
            "Epoch 27/100\n",
            "38/38 [==============================] - 1s 14ms/step - loss: 0.0032\n",
            "Epoch 28/100\n",
            "38/38 [==============================] - 1s 14ms/step - loss: 0.0030\n",
            "Epoch 29/100\n",
            "38/38 [==============================] - 1s 14ms/step - loss: 0.0033\n",
            "Epoch 30/100\n",
            "38/38 [==============================] - 1s 14ms/step - loss: 0.0031\n",
            "Epoch 31/100\n",
            "38/38 [==============================] - 1s 14ms/step - loss: 0.0029\n",
            "Epoch 32/100\n",
            "38/38 [==============================] - 1s 14ms/step - loss: 0.0027\n",
            "Epoch 33/100\n",
            "38/38 [==============================] - 1s 13ms/step - loss: 0.0032\n",
            "Epoch 34/100\n",
            "38/38 [==============================] - 1s 14ms/step - loss: 0.0028\n",
            "Epoch 35/100\n",
            "38/38 [==============================] - 1s 14ms/step - loss: 0.0030\n",
            "Epoch 36/100\n",
            "38/38 [==============================] - 1s 18ms/step - loss: 0.0026\n",
            "Epoch 37/100\n",
            "38/38 [==============================] - 1s 18ms/step - loss: 0.0028\n",
            "Epoch 38/100\n",
            "38/38 [==============================] - 1s 17ms/step - loss: 0.0025\n",
            "Epoch 39/100\n",
            "38/38 [==============================] - 1s 19ms/step - loss: 0.0030\n",
            "Epoch 40/100\n",
            "38/38 [==============================] - 1s 13ms/step - loss: 0.0029\n",
            "Epoch 41/100\n",
            "38/38 [==============================] - 1s 13ms/step - loss: 0.0027\n",
            "Epoch 42/100\n",
            "38/38 [==============================] - 1s 14ms/step - loss: 0.0025\n",
            "Epoch 43/100\n",
            "38/38 [==============================] - 1s 13ms/step - loss: 0.0025\n",
            "Epoch 44/100\n",
            "38/38 [==============================] - 1s 14ms/step - loss: 0.0024\n",
            "Epoch 45/100\n",
            "38/38 [==============================] - 1s 13ms/step - loss: 0.0022\n",
            "Epoch 46/100\n",
            "38/38 [==============================] - 1s 13ms/step - loss: 0.0024\n",
            "Epoch 47/100\n",
            "38/38 [==============================] - 1s 13ms/step - loss: 0.0024\n",
            "Epoch 48/100\n",
            "38/38 [==============================] - 1s 14ms/step - loss: 0.0023\n",
            "Epoch 49/100\n",
            "38/38 [==============================] - 1s 14ms/step - loss: 0.0024\n",
            "Epoch 50/100\n",
            "38/38 [==============================] - 1s 18ms/step - loss: 0.0022\n",
            "Epoch 51/100\n",
            "38/38 [==============================] - 1s 19ms/step - loss: 0.0022\n",
            "Epoch 52/100\n",
            "38/38 [==============================] - 1s 19ms/step - loss: 0.0021\n",
            "Epoch 53/100\n",
            "38/38 [==============================] - 1s 19ms/step - loss: 0.0024\n",
            "Epoch 54/100\n",
            "38/38 [==============================] - 1s 19ms/step - loss: 0.0021\n",
            "Epoch 55/100\n",
            "38/38 [==============================] - 1s 19ms/step - loss: 0.0021\n",
            "Epoch 56/100\n",
            "38/38 [==============================] - 1s 20ms/step - loss: 0.0022\n",
            "Epoch 57/100\n",
            "38/38 [==============================] - 1s 27ms/step - loss: 0.0021\n",
            "Epoch 58/100\n",
            "38/38 [==============================] - 1s 32ms/step - loss: 0.0023\n",
            "Epoch 59/100\n",
            "38/38 [==============================] - 1s 29ms/step - loss: 0.0021\n",
            "Epoch 60/100\n",
            "38/38 [==============================] - 1s 21ms/step - loss: 0.0019\n",
            "Epoch 61/100\n",
            "38/38 [==============================] - 1s 20ms/step - loss: 0.0019\n",
            "Epoch 62/100\n",
            "38/38 [==============================] - 1s 26ms/step - loss: 0.0019\n",
            "Epoch 63/100\n",
            "38/38 [==============================] - 1s 13ms/step - loss: 0.0020\n",
            "Epoch 64/100\n",
            "38/38 [==============================] - 1s 14ms/step - loss: 0.0018\n",
            "Epoch 65/100\n",
            "38/38 [==============================] - 1s 14ms/step - loss: 0.0021\n",
            "Epoch 66/100\n",
            "38/38 [==============================] - 1s 14ms/step - loss: 0.0018\n",
            "Epoch 67/100\n",
            "38/38 [==============================] - 1s 14ms/step - loss: 0.0018\n",
            "Epoch 68/100\n",
            "38/38 [==============================] - 1s 14ms/step - loss: 0.0018\n",
            "Epoch 69/100\n",
            "38/38 [==============================] - 1s 14ms/step - loss: 0.0018\n",
            "Epoch 70/100\n",
            "38/38 [==============================] - 1s 14ms/step - loss: 0.0016\n",
            "Epoch 71/100\n",
            "38/38 [==============================] - 1s 13ms/step - loss: 0.0017\n",
            "Epoch 72/100\n",
            "38/38 [==============================] - 1s 14ms/step - loss: 0.0017\n",
            "Epoch 73/100\n",
            "38/38 [==============================] - 1s 13ms/step - loss: 0.0016\n",
            "Epoch 74/100\n",
            "38/38 [==============================] - 1s 14ms/step - loss: 0.0018\n",
            "Epoch 75/100\n",
            "38/38 [==============================] - 1s 13ms/step - loss: 0.0018\n",
            "Epoch 76/100\n",
            "38/38 [==============================] - 1s 17ms/step - loss: 0.0016\n",
            "Epoch 77/100\n",
            "38/38 [==============================] - 1s 19ms/step - loss: 0.0015\n",
            "Epoch 78/100\n",
            "38/38 [==============================] - 1s 24ms/step - loss: 0.0017\n",
            "Epoch 79/100\n",
            "38/38 [==============================] - 1s 31ms/step - loss: 0.0015\n",
            "Epoch 80/100\n",
            "38/38 [==============================] - 1s 22ms/step - loss: 0.0016\n",
            "Epoch 81/100\n",
            "38/38 [==============================] - 1s 21ms/step - loss: 0.0015\n",
            "Epoch 82/100\n",
            "38/38 [==============================] - 1s 28ms/step - loss: 0.0015\n",
            "Epoch 83/100\n",
            "38/38 [==============================] - 1s 25ms/step - loss: 0.0015\n",
            "Epoch 84/100\n",
            "38/38 [==============================] - 1s 28ms/step - loss: 0.0016\n",
            "Epoch 85/100\n",
            "38/38 [==============================] - 1s 26ms/step - loss: 0.0014\n",
            "Epoch 86/100\n",
            "38/38 [==============================] - 1s 23ms/step - loss: 0.0014\n",
            "Epoch 87/100\n",
            "38/38 [==============================] - 1s 18ms/step - loss: 0.0016\n",
            "Epoch 88/100\n",
            "38/38 [==============================] - 1s 33ms/step - loss: 0.0015\n",
            "Epoch 89/100\n",
            "38/38 [==============================] - 1s 33ms/step - loss: 0.0016\n",
            "Epoch 90/100\n",
            "38/38 [==============================] - 1s 38ms/step - loss: 0.0016\n",
            "Epoch 91/100\n",
            "38/38 [==============================] - 2s 41ms/step - loss: 0.0014\n",
            "Epoch 92/100\n",
            "38/38 [==============================] - 1s 25ms/step - loss: 0.0013\n",
            "Epoch 93/100\n",
            "38/38 [==============================] - 1s 14ms/step - loss: 0.0015\n",
            "Epoch 94/100\n",
            "38/38 [==============================] - 1s 14ms/step - loss: 0.0014\n",
            "Epoch 95/100\n",
            "38/38 [==============================] - 1s 13ms/step - loss: 0.0014\n",
            "Epoch 96/100\n",
            "38/38 [==============================] - 1s 13ms/step - loss: 0.0014\n",
            "Epoch 97/100\n",
            "38/38 [==============================] - 1s 14ms/step - loss: 0.0016\n",
            "Epoch 98/100\n",
            "38/38 [==============================] - 1s 13ms/step - loss: 0.0013\n",
            "Epoch 99/100\n",
            "38/38 [==============================] - 1s 13ms/step - loss: 0.0013\n",
            "Epoch 100/100\n",
            "38/38 [==============================] - 1s 13ms/step - loss: 0.0014\n"
          ]
        },
        {
          "output_type": "execute_result",
          "data": {
            "text/plain": [
              "<keras.src.callbacks.History at 0x7855dbf16560>"
            ]
          },
          "metadata": {},
          "execution_count": 18
        }
      ]
    },
    {
      "cell_type": "markdown",
      "source": [
        "Getting the real stock price of 2017"
      ],
      "metadata": {
        "id": "LtjE4lUD3jLy"
      }
    },
    {
      "cell_type": "code",
      "execution_count": 20,
      "metadata": {
        "colab": {
          "base_uri": "https://localhost:8080/"
        },
        "id": "s2t1PAEKWXTu",
        "outputId": "513bdb67-2e4f-41e6-968c-f68d74b2c5a9"
      },
      "outputs": [
        {
          "output_type": "execute_result",
          "data": {
            "text/plain": [
              "array([[778.81],\n",
              "       [788.36],\n",
              "       [786.08],\n",
              "       [795.26],\n",
              "       [806.4 ],\n",
              "       [807.86],\n",
              "       [805.  ],\n",
              "       [807.14],\n",
              "       [807.48],\n",
              "       [807.08],\n",
              "       [805.81],\n",
              "       [805.12],\n",
              "       [806.91],\n",
              "       [807.25],\n",
              "       [822.3 ],\n",
              "       [829.62],\n",
              "       [837.81],\n",
              "       [834.71],\n",
              "       [814.66],\n",
              "       [796.86]])"
            ]
          },
          "metadata": {},
          "execution_count": 20
        }
      ],
      "source": [
        "dataset_test = pd.read_csv(os.path.join(csv_file_path, 'Google_Stock_Price_Test.csv'))\n",
        "real_stock_price = dataset_test.iloc[:, 1:2].values\n",
        "real_stock_price"
      ]
    },
    {
      "cell_type": "markdown",
      "source": [
        "Getting the predicted stock price of 2017"
      ],
      "metadata": {
        "id": "pYaZ0ibr3mP-"
      }
    },
    {
      "cell_type": "code",
      "source": [
        "dataset_total = pd.concat((dataset_train['Open'], dataset_test['Open']), axis=0)\n",
        "inputs = dataset_total[len(dataset_total) - len(dataset_test) - 60:].values\n",
        "\n",
        "inputs = inputs.reshape(-1, 1)\n",
        "inputs = sc.transform(inputs)"
      ],
      "metadata": {
        "id": "luxCvJD-3piZ"
      },
      "execution_count": 21,
      "outputs": []
    },
    {
      "cell_type": "code",
      "source": [
        "X_test = []\n",
        "\n",
        "for i in range(60, 80):\n",
        "  X_test.append(inputs[i-60:i, 0])\n",
        "\n",
        "X_test = np.array(X_test)\n",
        "X_test = np.reshape(X_test, (X_test.shape[0], X_test.shape[1], 1))\n",
        "X_test.shape"
      ],
      "metadata": {
        "colab": {
          "base_uri": "https://localhost:8080/"
        },
        "id": "U9DkDBbi3sGu",
        "outputId": "d55c7d8d-fb11-4b0f-c0c3-c9c80d34ecb8"
      },
      "execution_count": 22,
      "outputs": [
        {
          "output_type": "execute_result",
          "data": {
            "text/plain": [
              "(20, 60, 1)"
            ]
          },
          "metadata": {},
          "execution_count": 22
        }
      ]
    },
    {
      "cell_type": "code",
      "source": [
        "predicted_stock_price = regressor.predict(X_test)\n",
        "predicted_stock_price = sc.inverse_transform(predicted_stock_price)"
      ],
      "metadata": {
        "colab": {
          "base_uri": "https://localhost:8080/"
        },
        "id": "FpY41MGK-rf7",
        "outputId": "dd2a8809-04e7-466d-b6df-a07b52195d5e"
      },
      "execution_count": 23,
      "outputs": [
        {
          "output_type": "stream",
          "name": "stdout",
          "text": [
            "1/1 [==============================] - 1s 1s/step\n"
          ]
        }
      ]
    },
    {
      "cell_type": "markdown",
      "source": [
        "Visualising the results"
      ],
      "metadata": {
        "id": "bEtv769u3p56"
      }
    },
    {
      "cell_type": "code",
      "source": [
        "plt.plot(real_stock_price, color='red',\n",
        "         label='Real Google Stock Price')\n",
        "plt.plot(predicted_stock_price, color='blue',\n",
        "         label='Predicted Google Stock Price')\n",
        "plt.title('Google Stock Price Prediction')\n",
        "plt.xlabel('Time')\n",
        "plt.ylabel('Google Stock Price')\n",
        "plt.legend()\n",
        "plt.show()"
      ],
      "metadata": {
        "colab": {
          "base_uri": "https://localhost:8080/",
          "height": 472
        },
        "id": "2HuBkwAG-Nzp",
        "outputId": "25d7cae0-f76a-4864-f50f-b92cff8d0a95"
      },
      "execution_count": 24,
      "outputs": [
        {
          "output_type": "display_data",
          "data": {
            "text/plain": [
              "<Figure size 640x480 with 1 Axes>"
            ],
            "image/png": "[encoded data removed]"
          },
          "metadata": {}
        }
      ]
    }
  ]
}